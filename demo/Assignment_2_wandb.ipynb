{
  "nbformat": 4,
  "nbformat_minor": 0,
  "metadata": {
    "colab": {
      "name": "Assignment-2 wandb",
      "provenance": [],
      "collapsed_sections": [],
      "authorship_tag": "ABX9TyO9qRokU7/hTAhYWj+bvZFW",
      "include_colab_link": true
    },
    "kernelspec": {
      "name": "python3",
      "display_name": "Python 3"
    },
    "language_info": {
      "name": "python"
    },
    "gpuClass": "standard",
    "widgets": {
      "application/vnd.jupyter.widget-state+json": {
        "b95db67cc17f462fa7e5ee5712678384": {
          "model_module": "@jupyter-widgets/controls",
          "model_name": "HBoxModel",
          "model_module_version": "1.5.0",
          "state": {
            "_dom_classes": [],
            "_model_module": "@jupyter-widgets/controls",
            "_model_module_version": "1.5.0",
            "_model_name": "HBoxModel",
            "_view_count": null,
            "_view_module": "@jupyter-widgets/controls",
            "_view_module_version": "1.5.0",
            "_view_name": "HBoxView",
            "box_style": "",
            "children": [
              "IPY_MODEL_4bec158d478d4e519956e3cc85d0e29d",
              "IPY_MODEL_c8db49e89a13439192a71b94861a7169",
              "IPY_MODEL_d392975c12eb4b5c8b2aeadc1056db2f"
            ],
            "layout": "IPY_MODEL_f535221ea4f84d8486a0621f61c2d80a"
          }
        },
        "4bec158d478d4e519956e3cc85d0e29d": {
          "model_module": "@jupyter-widgets/controls",
          "model_name": "HTMLModel",
          "model_module_version": "1.5.0",
          "state": {
            "_dom_classes": [],
            "_model_module": "@jupyter-widgets/controls",
            "_model_module_version": "1.5.0",
            "_model_name": "HTMLModel",
            "_view_count": null,
            "_view_module": "@jupyter-widgets/controls",
            "_view_module_version": "1.5.0",
            "_view_name": "HTMLView",
            "description": "",
            "description_tooltip": null,
            "layout": "IPY_MODEL_e44b91c1220a44d7b72e76b2c91b024f",
            "placeholder": "​",
            "style": "IPY_MODEL_bfef4d9355314d9f9690562e432f4d21",
            "value": "100%"
          }
        },
        "c8db49e89a13439192a71b94861a7169": {
          "model_module": "@jupyter-widgets/controls",
          "model_name": "FloatProgressModel",
          "model_module_version": "1.5.0",
          "state": {
            "_dom_classes": [],
            "_model_module": "@jupyter-widgets/controls",
            "_model_module_version": "1.5.0",
            "_model_name": "FloatProgressModel",
            "_view_count": null,
            "_view_module": "@jupyter-widgets/controls",
            "_view_module_version": "1.5.0",
            "_view_name": "ProgressView",
            "bar_style": "success",
            "description": "",
            "description_tooltip": null,
            "layout": "IPY_MODEL_1d7e18144c3b4f4a912793da6555df10",
            "max": 98752094,
            "min": 0,
            "orientation": "horizontal",
            "style": "IPY_MODEL_e504abb8614b467f835a7e65905a726c",
            "value": 98752094
          }
        },
        "d392975c12eb4b5c8b2aeadc1056db2f": {
          "model_module": "@jupyter-widgets/controls",
          "model_name": "HTMLModel",
          "model_module_version": "1.5.0",
          "state": {
            "_dom_classes": [],
            "_model_module": "@jupyter-widgets/controls",
            "_model_module_version": "1.5.0",
            "_model_name": "HTMLModel",
            "_view_count": null,
            "_view_module": "@jupyter-widgets/controls",
            "_view_module_version": "1.5.0",
            "_view_name": "HTMLView",
            "description": "",
            "description_tooltip": null,
            "layout": "IPY_MODEL_3f33528325bb42b5b0e530f3a720ee8e",
            "placeholder": "​",
            "style": "IPY_MODEL_4b02d11e94f24c7e90df3d774bb49885",
            "value": " 98752094/98752094 [00:01&lt;00:00, 84693871.75it/s]"
          }
        },
        "f535221ea4f84d8486a0621f61c2d80a": {
          "model_module": "@jupyter-widgets/base",
          "model_name": "LayoutModel",
          "model_module_version": "1.2.0",
          "state": {
            "_model_module": "@jupyter-widgets/base",
            "_model_module_version": "1.2.0",
            "_model_name": "LayoutModel",
            "_view_count": null,
            "_view_module": "@jupyter-widgets/base",
            "_view_module_version": "1.2.0",
            "_view_name": "LayoutView",
            "align_content": null,
            "align_items": null,
            "align_self": null,
            "border": null,
            "bottom": null,
            "display": null,
            "flex": null,
            "flex_flow": null,
            "grid_area": null,
            "grid_auto_columns": null,
            "grid_auto_flow": null,
            "grid_auto_rows": null,
            "grid_column": null,
            "grid_gap": null,
            "grid_row": null,
            "grid_template_areas": null,
            "grid_template_columns": null,
            "grid_template_rows": null,
            "height": null,
            "justify_content": null,
            "justify_items": null,
            "left": null,
            "margin": null,
            "max_height": null,
            "max_width": null,
            "min_height": null,
            "min_width": null,
            "object_fit": null,
            "object_position": null,
            "order": null,
            "overflow": null,
            "overflow_x": null,
            "overflow_y": null,
            "padding": null,
            "right": null,
            "top": null,
            "visibility": null,
            "width": null
          }
        },
        "e44b91c1220a44d7b72e76b2c91b024f": {
          "model_module": "@jupyter-widgets/base",
          "model_name": "LayoutModel",
          "model_module_version": "1.2.0",
          "state": {
            "_model_module": "@jupyter-widgets/base",
            "_model_module_version": "1.2.0",
            "_model_name": "LayoutModel",
            "_view_count": null,
            "_view_module": "@jupyter-widgets/base",
            "_view_module_version": "1.2.0",
            "_view_name": "LayoutView",
            "align_content": null,
            "align_items": null,
            "align_self": null,
            "border": null,
            "bottom": null,
            "display": null,
            "flex": null,
            "flex_flow": null,
            "grid_area": null,
            "grid_auto_columns": null,
            "grid_auto_flow": null,
            "grid_auto_rows": null,
            "grid_column": null,
            "grid_gap": null,
            "grid_row": null,
            "grid_template_areas": null,
            "grid_template_columns": null,
            "grid_template_rows": null,
            "height": null,
            "justify_content": null,
            "justify_items": null,
            "left": null,
            "margin": null,
            "max_height": null,
            "max_width": null,
            "min_height": null,
            "min_width": null,
            "object_fit": null,
            "object_position": null,
            "order": null,
            "overflow": null,
            "overflow_x": null,
            "overflow_y": null,
            "padding": null,
            "right": null,
            "top": null,
            "visibility": null,
            "width": null
          }
        },
        "bfef4d9355314d9f9690562e432f4d21": {
          "model_module": "@jupyter-widgets/controls",
          "model_name": "DescriptionStyleModel",
          "model_module_version": "1.5.0",
          "state": {
            "_model_module": "@jupyter-widgets/controls",
            "_model_module_version": "1.5.0",
            "_model_name": "DescriptionStyleModel",
            "_view_count": null,
            "_view_module": "@jupyter-widgets/base",
            "_view_module_version": "1.2.0",
            "_view_name": "StyleView",
            "description_width": ""
          }
        },
        "1d7e18144c3b4f4a912793da6555df10": {
          "model_module": "@jupyter-widgets/base",
          "model_name": "LayoutModel",
          "model_module_version": "1.2.0",
          "state": {
            "_model_module": "@jupyter-widgets/base",
            "_model_module_version": "1.2.0",
            "_model_name": "LayoutModel",
            "_view_count": null,
            "_view_module": "@jupyter-widgets/base",
            "_view_module_version": "1.2.0",
            "_view_name": "LayoutView",
            "align_content": null,
            "align_items": null,
            "align_self": null,
            "border": null,
            "bottom": null,
            "display": null,
            "flex": null,
            "flex_flow": null,
            "grid_area": null,
            "grid_auto_columns": null,
            "grid_auto_flow": null,
            "grid_auto_rows": null,
            "grid_column": null,
            "grid_gap": null,
            "grid_row": null,
            "grid_template_areas": null,
            "grid_template_columns": null,
            "grid_template_rows": null,
            "height": null,
            "justify_content": null,
            "justify_items": null,
            "left": null,
            "margin": null,
            "max_height": null,
            "max_width": null,
            "min_height": null,
            "min_width": null,
            "object_fit": null,
            "object_position": null,
            "order": null,
            "overflow": null,
            "overflow_x": null,
            "overflow_y": null,
            "padding": null,
            "right": null,
            "top": null,
            "visibility": null,
            "width": null
          }
        },
        "e504abb8614b467f835a7e65905a726c": {
          "model_module": "@jupyter-widgets/controls",
          "model_name": "ProgressStyleModel",
          "model_module_version": "1.5.0",
          "state": {
            "_model_module": "@jupyter-widgets/controls",
            "_model_module_version": "1.5.0",
            "_model_name": "ProgressStyleModel",
            "_view_count": null,
            "_view_module": "@jupyter-widgets/base",
            "_view_module_version": "1.2.0",
            "_view_name": "StyleView",
            "bar_color": null,
            "description_width": ""
          }
        },
        "3f33528325bb42b5b0e530f3a720ee8e": {
          "model_module": "@jupyter-widgets/base",
          "model_name": "LayoutModel",
          "model_module_version": "1.2.0",
          "state": {
            "_model_module": "@jupyter-widgets/base",
            "_model_module_version": "1.2.0",
            "_model_name": "LayoutModel",
            "_view_count": null,
            "_view_module": "@jupyter-widgets/base",
            "_view_module_version": "1.2.0",
            "_view_name": "LayoutView",
            "align_content": null,
            "align_items": null,
            "align_self": null,
            "border": null,
            "bottom": null,
            "display": null,
            "flex": null,
            "flex_flow": null,
            "grid_area": null,
            "grid_auto_columns": null,
            "grid_auto_flow": null,
            "grid_auto_rows": null,
            "grid_column": null,
            "grid_gap": null,
            "grid_row": null,
            "grid_template_areas": null,
            "grid_template_columns": null,
            "grid_template_rows": null,
            "height": null,
            "justify_content": null,
            "justify_items": null,
            "left": null,
            "margin": null,
            "max_height": null,
            "max_width": null,
            "min_height": null,
            "min_width": null,
            "object_fit": null,
            "object_position": null,
            "order": null,
            "overflow": null,
            "overflow_x": null,
            "overflow_y": null,
            "padding": null,
            "right": null,
            "top": null,
            "visibility": null,
            "width": null
          }
        },
        "4b02d11e94f24c7e90df3d774bb49885": {
          "model_module": "@jupyter-widgets/controls",
          "model_name": "DescriptionStyleModel",
          "model_module_version": "1.5.0",
          "state": {
            "_model_module": "@jupyter-widgets/controls",
            "_model_module_version": "1.5.0",
            "_model_name": "DescriptionStyleModel",
            "_view_count": null,
            "_view_module": "@jupyter-widgets/base",
            "_view_module_version": "1.2.0",
            "_view_name": "StyleView",
            "description_width": ""
          }
        },
        "51c4956f737444199f71746d3d35adef": {
          "model_module": "@jupyter-widgets/controls",
          "model_name": "VBoxModel",
          "model_module_version": "1.5.0",
          "state": {
            "_dom_classes": [],
            "_model_module": "@jupyter-widgets/controls",
            "_model_module_version": "1.5.0",
            "_model_name": "VBoxModel",
            "_view_count": null,
            "_view_module": "@jupyter-widgets/controls",
            "_view_module_version": "1.5.0",
            "_view_name": "VBoxView",
            "box_style": "",
            "children": [
              "IPY_MODEL_2c41da2b182440778087b5a31b08673e",
              "IPY_MODEL_a8595fc2be294a68a04cf000d4887925"
            ],
            "layout": "IPY_MODEL_e2d99e9be051488b987f6a283717b940"
          }
        },
        "2c41da2b182440778087b5a31b08673e": {
          "model_module": "@jupyter-widgets/controls",
          "model_name": "LabelModel",
          "model_module_version": "1.5.0",
          "state": {
            "_dom_classes": [],
            "_model_module": "@jupyter-widgets/controls",
            "_model_module_version": "1.5.0",
            "_model_name": "LabelModel",
            "_view_count": null,
            "_view_module": "@jupyter-widgets/controls",
            "_view_module_version": "1.5.0",
            "_view_name": "LabelView",
            "description": "",
            "description_tooltip": null,
            "layout": "IPY_MODEL_55ec1812cf674df99b2f1949da136ac1",
            "placeholder": "​",
            "style": "IPY_MODEL_fc077eeeaa8b4d03bf2016a0a76ac44e",
            "value": "0.008 MB of 0.008 MB uploaded (0.000 MB deduped)\r"
          }
        },
        "a8595fc2be294a68a04cf000d4887925": {
          "model_module": "@jupyter-widgets/controls",
          "model_name": "FloatProgressModel",
          "model_module_version": "1.5.0",
          "state": {
            "_dom_classes": [],
            "_model_module": "@jupyter-widgets/controls",
            "_model_module_version": "1.5.0",
            "_model_name": "FloatProgressModel",
            "_view_count": null,
            "_view_module": "@jupyter-widgets/controls",
            "_view_module_version": "1.5.0",
            "_view_name": "ProgressView",
            "bar_style": "",
            "description": "",
            "description_tooltip": null,
            "layout": "IPY_MODEL_d5237b85434f45e5919b633f2fb3a625",
            "max": 1,
            "min": 0,
            "orientation": "horizontal",
            "style": "IPY_MODEL_62fc89be7127490b97f0f5455b06975b",
            "value": 1
          }
        },
        "e2d99e9be051488b987f6a283717b940": {
          "model_module": "@jupyter-widgets/base",
          "model_name": "LayoutModel",
          "model_module_version": "1.2.0",
          "state": {
            "_model_module": "@jupyter-widgets/base",
            "_model_module_version": "1.2.0",
            "_model_name": "LayoutModel",
            "_view_count": null,
            "_view_module": "@jupyter-widgets/base",
            "_view_module_version": "1.2.0",
            "_view_name": "LayoutView",
            "align_content": null,
            "align_items": null,
            "align_self": null,
            "border": null,
            "bottom": null,
            "display": null,
            "flex": null,
            "flex_flow": null,
            "grid_area": null,
            "grid_auto_columns": null,
            "grid_auto_flow": null,
            "grid_auto_rows": null,
            "grid_column": null,
            "grid_gap": null,
            "grid_row": null,
            "grid_template_areas": null,
            "grid_template_columns": null,
            "grid_template_rows": null,
            "height": null,
            "justify_content": null,
            "justify_items": null,
            "left": null,
            "margin": null,
            "max_height": null,
            "max_width": null,
            "min_height": null,
            "min_width": null,
            "object_fit": null,
            "object_position": null,
            "order": null,
            "overflow": null,
            "overflow_x": null,
            "overflow_y": null,
            "padding": null,
            "right": null,
            "top": null,
            "visibility": null,
            "width": null
          }
        },
        "55ec1812cf674df99b2f1949da136ac1": {
          "model_module": "@jupyter-widgets/base",
          "model_name": "LayoutModel",
          "model_module_version": "1.2.0",
          "state": {
            "_model_module": "@jupyter-widgets/base",
            "_model_module_version": "1.2.0",
            "_model_name": "LayoutModel",
            "_view_count": null,
            "_view_module": "@jupyter-widgets/base",
            "_view_module_version": "1.2.0",
            "_view_name": "LayoutView",
            "align_content": null,
            "align_items": null,
            "align_self": null,
            "border": null,
            "bottom": null,
            "display": null,
            "flex": null,
            "flex_flow": null,
            "grid_area": null,
            "grid_auto_columns": null,
            "grid_auto_flow": null,
            "grid_auto_rows": null,
            "grid_column": null,
            "grid_gap": null,
            "grid_row": null,
            "grid_template_areas": null,
            "grid_template_columns": null,
            "grid_template_rows": null,
            "height": null,
            "justify_content": null,
            "justify_items": null,
            "left": null,
            "margin": null,
            "max_height": null,
            "max_width": null,
            "min_height": null,
            "min_width": null,
            "object_fit": null,
            "object_position": null,
            "order": null,
            "overflow": null,
            "overflow_x": null,
            "overflow_y": null,
            "padding": null,
            "right": null,
            "top": null,
            "visibility": null,
            "width": null
          }
        },
        "fc077eeeaa8b4d03bf2016a0a76ac44e": {
          "model_module": "@jupyter-widgets/controls",
          "model_name": "DescriptionStyleModel",
          "model_module_version": "1.5.0",
          "state": {
            "_model_module": "@jupyter-widgets/controls",
            "_model_module_version": "1.5.0",
            "_model_name": "DescriptionStyleModel",
            "_view_count": null,
            "_view_module": "@jupyter-widgets/base",
            "_view_module_version": "1.2.0",
            "_view_name": "StyleView",
            "description_width": ""
          }
        },
        "d5237b85434f45e5919b633f2fb3a625": {
          "model_module": "@jupyter-widgets/base",
          "model_name": "LayoutModel",
          "model_module_version": "1.2.0",
          "state": {
            "_model_module": "@jupyter-widgets/base",
            "_model_module_version": "1.2.0",
            "_model_name": "LayoutModel",
            "_view_count": null,
            "_view_module": "@jupyter-widgets/base",
            "_view_module_version": "1.2.0",
            "_view_name": "LayoutView",
            "align_content": null,
            "align_items": null,
            "align_self": null,
            "border": null,
            "bottom": null,
            "display": null,
            "flex": null,
            "flex_flow": null,
            "grid_area": null,
            "grid_auto_columns": null,
            "grid_auto_flow": null,
            "grid_auto_rows": null,
            "grid_column": null,
            "grid_gap": null,
            "grid_row": null,
            "grid_template_areas": null,
            "grid_template_columns": null,
            "grid_template_rows": null,
            "height": null,
            "justify_content": null,
            "justify_items": null,
            "left": null,
            "margin": null,
            "max_height": null,
            "max_width": null,
            "min_height": null,
            "min_width": null,
            "object_fit": null,
            "object_position": null,
            "order": null,
            "overflow": null,
            "overflow_x": null,
            "overflow_y": null,
            "padding": null,
            "right": null,
            "top": null,
            "visibility": null,
            "width": null
          }
        },
        "62fc89be7127490b97f0f5455b06975b": {
          "model_module": "@jupyter-widgets/controls",
          "model_name": "ProgressStyleModel",
          "model_module_version": "1.5.0",
          "state": {
            "_model_module": "@jupyter-widgets/controls",
            "_model_module_version": "1.5.0",
            "_model_name": "ProgressStyleModel",
            "_view_count": null,
            "_view_module": "@jupyter-widgets/base",
            "_view_module_version": "1.2.0",
            "_view_name": "StyleView",
            "bar_color": null,
            "description_width": ""
          }
        },
        "aaa5b9d911af4af182e65b017f0a4bbf": {
          "model_module": "@jupyter-widgets/controls",
          "model_name": "VBoxModel",
          "model_module_version": "1.5.0",
          "state": {
            "_dom_classes": [],
            "_model_module": "@jupyter-widgets/controls",
            "_model_module_version": "1.5.0",
            "_model_name": "VBoxModel",
            "_view_count": null,
            "_view_module": "@jupyter-widgets/controls",
            "_view_module_version": "1.5.0",
            "_view_name": "VBoxView",
            "box_style": "",
            "children": [
              "IPY_MODEL_1400ada2d4534196a61717487cecdc65",
              "IPY_MODEL_a65ba7fdd91c4bc9997f3a07b441b7c0"
            ],
            "layout": "IPY_MODEL_e1ea264486ce49a88fe0644989d7dc92"
          }
        },
        "1400ada2d4534196a61717487cecdc65": {
          "model_module": "@jupyter-widgets/controls",
          "model_name": "LabelModel",
          "model_module_version": "1.5.0",
          "state": {
            "_dom_classes": [],
            "_model_module": "@jupyter-widgets/controls",
            "_model_module_version": "1.5.0",
            "_model_name": "LabelModel",
            "_view_count": null,
            "_view_module": "@jupyter-widgets/controls",
            "_view_module_version": "1.5.0",
            "_view_name": "LabelView",
            "description": "",
            "description_tooltip": null,
            "layout": "IPY_MODEL_2c609b69d1e14a999b98f312ad8f842b",
            "placeholder": "​",
            "style": "IPY_MODEL_b215e2910525447abb334607563d608c",
            "value": "0.008 MB of 0.008 MB uploaded (0.000 MB deduped)\r"
          }
        },
        "a65ba7fdd91c4bc9997f3a07b441b7c0": {
          "model_module": "@jupyter-widgets/controls",
          "model_name": "FloatProgressModel",
          "model_module_version": "1.5.0",
          "state": {
            "_dom_classes": [],
            "_model_module": "@jupyter-widgets/controls",
            "_model_module_version": "1.5.0",
            "_model_name": "FloatProgressModel",
            "_view_count": null,
            "_view_module": "@jupyter-widgets/controls",
            "_view_module_version": "1.5.0",
            "_view_name": "ProgressView",
            "bar_style": "",
            "description": "",
            "description_tooltip": null,
            "layout": "IPY_MODEL_9a421f5dbf5d47c6baef0ce300cbe291",
            "max": 1,
            "min": 0,
            "orientation": "horizontal",
            "style": "IPY_MODEL_97ea91533b5b4096b8501b370d06d3a5",
            "value": 1
          }
        },
        "e1ea264486ce49a88fe0644989d7dc92": {
          "model_module": "@jupyter-widgets/base",
          "model_name": "LayoutModel",
          "model_module_version": "1.2.0",
          "state": {
            "_model_module": "@jupyter-widgets/base",
            "_model_module_version": "1.2.0",
            "_model_name": "LayoutModel",
            "_view_count": null,
            "_view_module": "@jupyter-widgets/base",
            "_view_module_version": "1.2.0",
            "_view_name": "LayoutView",
            "align_content": null,
            "align_items": null,
            "align_self": null,
            "border": null,
            "bottom": null,
            "display": null,
            "flex": null,
            "flex_flow": null,
            "grid_area": null,
            "grid_auto_columns": null,
            "grid_auto_flow": null,
            "grid_auto_rows": null,
            "grid_column": null,
            "grid_gap": null,
            "grid_row": null,
            "grid_template_areas": null,
            "grid_template_columns": null,
            "grid_template_rows": null,
            "height": null,
            "justify_content": null,
            "justify_items": null,
            "left": null,
            "margin": null,
            "max_height": null,
            "max_width": null,
            "min_height": null,
            "min_width": null,
            "object_fit": null,
            "object_position": null,
            "order": null,
            "overflow": null,
            "overflow_x": null,
            "overflow_y": null,
            "padding": null,
            "right": null,
            "top": null,
            "visibility": null,
            "width": null
          }
        },
        "2c609b69d1e14a999b98f312ad8f842b": {
          "model_module": "@jupyter-widgets/base",
          "model_name": "LayoutModel",
          "model_module_version": "1.2.0",
          "state": {
            "_model_module": "@jupyter-widgets/base",
            "_model_module_version": "1.2.0",
            "_model_name": "LayoutModel",
            "_view_count": null,
            "_view_module": "@jupyter-widgets/base",
            "_view_module_version": "1.2.0",
            "_view_name": "LayoutView",
            "align_content": null,
            "align_items": null,
            "align_self": null,
            "border": null,
            "bottom": null,
            "display": null,
            "flex": null,
            "flex_flow": null,
            "grid_area": null,
            "grid_auto_columns": null,
            "grid_auto_flow": null,
            "grid_auto_rows": null,
            "grid_column": null,
            "grid_gap": null,
            "grid_row": null,
            "grid_template_areas": null,
            "grid_template_columns": null,
            "grid_template_rows": null,
            "height": null,
            "justify_content": null,
            "justify_items": null,
            "left": null,
            "margin": null,
            "max_height": null,
            "max_width": null,
            "min_height": null,
            "min_width": null,
            "object_fit": null,
            "object_position": null,
            "order": null,
            "overflow": null,
            "overflow_x": null,
            "overflow_y": null,
            "padding": null,
            "right": null,
            "top": null,
            "visibility": null,
            "width": null
          }
        },
        "b215e2910525447abb334607563d608c": {
          "model_module": "@jupyter-widgets/controls",
          "model_name": "DescriptionStyleModel",
          "model_module_version": "1.5.0",
          "state": {
            "_model_module": "@jupyter-widgets/controls",
            "_model_module_version": "1.5.0",
            "_model_name": "DescriptionStyleModel",
            "_view_count": null,
            "_view_module": "@jupyter-widgets/base",
            "_view_module_version": "1.2.0",
            "_view_name": "StyleView",
            "description_width": ""
          }
        },
        "9a421f5dbf5d47c6baef0ce300cbe291": {
          "model_module": "@jupyter-widgets/base",
          "model_name": "LayoutModel",
          "model_module_version": "1.2.0",
          "state": {
            "_model_module": "@jupyter-widgets/base",
            "_model_module_version": "1.2.0",
            "_model_name": "LayoutModel",
            "_view_count": null,
            "_view_module": "@jupyter-widgets/base",
            "_view_module_version": "1.2.0",
            "_view_name": "LayoutView",
            "align_content": null,
            "align_items": null,
            "align_self": null,
            "border": null,
            "bottom": null,
            "display": null,
            "flex": null,
            "flex_flow": null,
            "grid_area": null,
            "grid_auto_columns": null,
            "grid_auto_flow": null,
            "grid_auto_rows": null,
            "grid_column": null,
            "grid_gap": null,
            "grid_row": null,
            "grid_template_areas": null,
            "grid_template_columns": null,
            "grid_template_rows": null,
            "height": null,
            "justify_content": null,
            "justify_items": null,
            "left": null,
            "margin": null,
            "max_height": null,
            "max_width": null,
            "min_height": null,
            "min_width": null,
            "object_fit": null,
            "object_position": null,
            "order": null,
            "overflow": null,
            "overflow_x": null,
            "overflow_y": null,
            "padding": null,
            "right": null,
            "top": null,
            "visibility": null,
            "width": null
          }
        },
        "97ea91533b5b4096b8501b370d06d3a5": {
          "model_module": "@jupyter-widgets/controls",
          "model_name": "ProgressStyleModel",
          "model_module_version": "1.5.0",
          "state": {
            "_model_module": "@jupyter-widgets/controls",
            "_model_module_version": "1.5.0",
            "_model_name": "ProgressStyleModel",
            "_view_count": null,
            "_view_module": "@jupyter-widgets/base",
            "_view_module_version": "1.2.0",
            "_view_name": "StyleView",
            "bar_color": null,
            "description_width": ""
          }
        },
        "ddbaa20a6e9d475caca584a928b6c922": {
          "model_module": "@jupyter-widgets/controls",
          "model_name": "VBoxModel",
          "model_module_version": "1.5.0",
          "state": {
            "_dom_classes": [],
            "_model_module": "@jupyter-widgets/controls",
            "_model_module_version": "1.5.0",
            "_model_name": "VBoxModel",
            "_view_count": null,
            "_view_module": "@jupyter-widgets/controls",
            "_view_module_version": "1.5.0",
            "_view_name": "VBoxView",
            "box_style": "",
            "children": [
              "IPY_MODEL_7b9502feab0f4d6f9d231be728a47c1d",
              "IPY_MODEL_64af172afbf2441dab18d699db56a76c"
            ],
            "layout": "IPY_MODEL_8dfa9a4131314191bfe647a63fffa457"
          }
        },
        "7b9502feab0f4d6f9d231be728a47c1d": {
          "model_module": "@jupyter-widgets/controls",
          "model_name": "LabelModel",
          "model_module_version": "1.5.0",
          "state": {
            "_dom_classes": [],
            "_model_module": "@jupyter-widgets/controls",
            "_model_module_version": "1.5.0",
            "_model_name": "LabelModel",
            "_view_count": null,
            "_view_module": "@jupyter-widgets/controls",
            "_view_module_version": "1.5.0",
            "_view_name": "LabelView",
            "description": "",
            "description_tooltip": null,
            "layout": "IPY_MODEL_77ff01ac379949928a8c675708a06561",
            "placeholder": "​",
            "style": "IPY_MODEL_e5b55647fae64a80a2d13531aa6fdbf5",
            "value": "0.008 MB of 0.008 MB uploaded (0.000 MB deduped)\r"
          }
        },
        "64af172afbf2441dab18d699db56a76c": {
          "model_module": "@jupyter-widgets/controls",
          "model_name": "FloatProgressModel",
          "model_module_version": "1.5.0",
          "state": {
            "_dom_classes": [],
            "_model_module": "@jupyter-widgets/controls",
            "_model_module_version": "1.5.0",
            "_model_name": "FloatProgressModel",
            "_view_count": null,
            "_view_module": "@jupyter-widgets/controls",
            "_view_module_version": "1.5.0",
            "_view_name": "ProgressView",
            "bar_style": "",
            "description": "",
            "description_tooltip": null,
            "layout": "IPY_MODEL_22d11bb33cd94f848c4141b605aaa52f",
            "max": 1,
            "min": 0,
            "orientation": "horizontal",
            "style": "IPY_MODEL_8209635467574a7dbee31a4810cedcd4",
            "value": 1
          }
        },
        "8dfa9a4131314191bfe647a63fffa457": {
          "model_module": "@jupyter-widgets/base",
          "model_name": "LayoutModel",
          "model_module_version": "1.2.0",
          "state": {
            "_model_module": "@jupyter-widgets/base",
            "_model_module_version": "1.2.0",
            "_model_name": "LayoutModel",
            "_view_count": null,
            "_view_module": "@jupyter-widgets/base",
            "_view_module_version": "1.2.0",
            "_view_name": "LayoutView",
            "align_content": null,
            "align_items": null,
            "align_self": null,
            "border": null,
            "bottom": null,
            "display": null,
            "flex": null,
            "flex_flow": null,
            "grid_area": null,
            "grid_auto_columns": null,
            "grid_auto_flow": null,
            "grid_auto_rows": null,
            "grid_column": null,
            "grid_gap": null,
            "grid_row": null,
            "grid_template_areas": null,
            "grid_template_columns": null,
            "grid_template_rows": null,
            "height": null,
            "justify_content": null,
            "justify_items": null,
            "left": null,
            "margin": null,
            "max_height": null,
            "max_width": null,
            "min_height": null,
            "min_width": null,
            "object_fit": null,
            "object_position": null,
            "order": null,
            "overflow": null,
            "overflow_x": null,
            "overflow_y": null,
            "padding": null,
            "right": null,
            "top": null,
            "visibility": null,
            "width": null
          }
        },
        "77ff01ac379949928a8c675708a06561": {
          "model_module": "@jupyter-widgets/base",
          "model_name": "LayoutModel",
          "model_module_version": "1.2.0",
          "state": {
            "_model_module": "@jupyter-widgets/base",
            "_model_module_version": "1.2.0",
            "_model_name": "LayoutModel",
            "_view_count": null,
            "_view_module": "@jupyter-widgets/base",
            "_view_module_version": "1.2.0",
            "_view_name": "LayoutView",
            "align_content": null,
            "align_items": null,
            "align_self": null,
            "border": null,
            "bottom": null,
            "display": null,
            "flex": null,
            "flex_flow": null,
            "grid_area": null,
            "grid_auto_columns": null,
            "grid_auto_flow": null,
            "grid_auto_rows": null,
            "grid_column": null,
            "grid_gap": null,
            "grid_row": null,
            "grid_template_areas": null,
            "grid_template_columns": null,
            "grid_template_rows": null,
            "height": null,
            "justify_content": null,
            "justify_items": null,
            "left": null,
            "margin": null,
            "max_height": null,
            "max_width": null,
            "min_height": null,
            "min_width": null,
            "object_fit": null,
            "object_position": null,
            "order": null,
            "overflow": null,
            "overflow_x": null,
            "overflow_y": null,
            "padding": null,
            "right": null,
            "top": null,
            "visibility": null,
            "width": null
          }
        },
        "e5b55647fae64a80a2d13531aa6fdbf5": {
          "model_module": "@jupyter-widgets/controls",
          "model_name": "DescriptionStyleModel",
          "model_module_version": "1.5.0",
          "state": {
            "_model_module": "@jupyter-widgets/controls",
            "_model_module_version": "1.5.0",
            "_model_name": "DescriptionStyleModel",
            "_view_count": null,
            "_view_module": "@jupyter-widgets/base",
            "_view_module_version": "1.2.0",
            "_view_name": "StyleView",
            "description_width": ""
          }
        },
        "22d11bb33cd94f848c4141b605aaa52f": {
          "model_module": "@jupyter-widgets/base",
          "model_name": "LayoutModel",
          "model_module_version": "1.2.0",
          "state": {
            "_model_module": "@jupyter-widgets/base",
            "_model_module_version": "1.2.0",
            "_model_name": "LayoutModel",
            "_view_count": null,
            "_view_module": "@jupyter-widgets/base",
            "_view_module_version": "1.2.0",
            "_view_name": "LayoutView",
            "align_content": null,
            "align_items": null,
            "align_self": null,
            "border": null,
            "bottom": null,
            "display": null,
            "flex": null,
            "flex_flow": null,
            "grid_area": null,
            "grid_auto_columns": null,
            "grid_auto_flow": null,
            "grid_auto_rows": null,
            "grid_column": null,
            "grid_gap": null,
            "grid_row": null,
            "grid_template_areas": null,
            "grid_template_columns": null,
            "grid_template_rows": null,
            "height": null,
            "justify_content": null,
            "justify_items": null,
            "left": null,
            "margin": null,
            "max_height": null,
            "max_width": null,
            "min_height": null,
            "min_width": null,
            "object_fit": null,
            "object_position": null,
            "order": null,
            "overflow": null,
            "overflow_x": null,
            "overflow_y": null,
            "padding": null,
            "right": null,
            "top": null,
            "visibility": null,
            "width": null
          }
        },
        "8209635467574a7dbee31a4810cedcd4": {
          "model_module": "@jupyter-widgets/controls",
          "model_name": "ProgressStyleModel",
          "model_module_version": "1.5.0",
          "state": {
            "_model_module": "@jupyter-widgets/controls",
            "_model_module_version": "1.5.0",
            "_model_name": "ProgressStyleModel",
            "_view_count": null,
            "_view_module": "@jupyter-widgets/base",
            "_view_module_version": "1.2.0",
            "_view_name": "StyleView",
            "bar_color": null,
            "description_width": ""
          }
        },
        "d65a7aa48c8a4c119e17b1244ac246df": {
          "model_module": "@jupyter-widgets/controls",
          "model_name": "VBoxModel",
          "model_module_version": "1.5.0",
          "state": {
            "_dom_classes": [],
            "_model_module": "@jupyter-widgets/controls",
            "_model_module_version": "1.5.0",
            "_model_name": "VBoxModel",
            "_view_count": null,
            "_view_module": "@jupyter-widgets/controls",
            "_view_module_version": "1.5.0",
            "_view_name": "VBoxView",
            "box_style": "",
            "children": [
              "IPY_MODEL_36074e34ad5b4fcdb3381cd51fa94e0e",
              "IPY_MODEL_abd723bf049845b5b313469242a25adf"
            ],
            "layout": "IPY_MODEL_b3da4509be8c4de68cdaa6f3ee1373fd"
          }
        },
        "36074e34ad5b4fcdb3381cd51fa94e0e": {
          "model_module": "@jupyter-widgets/controls",
          "model_name": "LabelModel",
          "model_module_version": "1.5.0",
          "state": {
            "_dom_classes": [],
            "_model_module": "@jupyter-widgets/controls",
            "_model_module_version": "1.5.0",
            "_model_name": "LabelModel",
            "_view_count": null,
            "_view_module": "@jupyter-widgets/controls",
            "_view_module_version": "1.5.0",
            "_view_name": "LabelView",
            "description": "",
            "description_tooltip": null,
            "layout": "IPY_MODEL_e1d78f38a64149a4962689f8c3c23530",
            "placeholder": "​",
            "style": "IPY_MODEL_bd0324cbb38f462492efc89d07a73606",
            "value": "0.008 MB of 0.008 MB uploaded (0.000 MB deduped)\r"
          }
        },
        "abd723bf049845b5b313469242a25adf": {
          "model_module": "@jupyter-widgets/controls",
          "model_name": "FloatProgressModel",
          "model_module_version": "1.5.0",
          "state": {
            "_dom_classes": [],
            "_model_module": "@jupyter-widgets/controls",
            "_model_module_version": "1.5.0",
            "_model_name": "FloatProgressModel",
            "_view_count": null,
            "_view_module": "@jupyter-widgets/controls",
            "_view_module_version": "1.5.0",
            "_view_name": "ProgressView",
            "bar_style": "",
            "description": "",
            "description_tooltip": null,
            "layout": "IPY_MODEL_90aa0b624d1c40109bcde627b74b44f9",
            "max": 1,
            "min": 0,
            "orientation": "horizontal",
            "style": "IPY_MODEL_2ba2226f41024d4e946800bf2dd1d35d",
            "value": 1
          }
        },
        "b3da4509be8c4de68cdaa6f3ee1373fd": {
          "model_module": "@jupyter-widgets/base",
          "model_name": "LayoutModel",
          "model_module_version": "1.2.0",
          "state": {
            "_model_module": "@jupyter-widgets/base",
            "_model_module_version": "1.2.0",
            "_model_name": "LayoutModel",
            "_view_count": null,
            "_view_module": "@jupyter-widgets/base",
            "_view_module_version": "1.2.0",
            "_view_name": "LayoutView",
            "align_content": null,
            "align_items": null,
            "align_self": null,
            "border": null,
            "bottom": null,
            "display": null,
            "flex": null,
            "flex_flow": null,
            "grid_area": null,
            "grid_auto_columns": null,
            "grid_auto_flow": null,
            "grid_auto_rows": null,
            "grid_column": null,
            "grid_gap": null,
            "grid_row": null,
            "grid_template_areas": null,
            "grid_template_columns": null,
            "grid_template_rows": null,
            "height": null,
            "justify_content": null,
            "justify_items": null,
            "left": null,
            "margin": null,
            "max_height": null,
            "max_width": null,
            "min_height": null,
            "min_width": null,
            "object_fit": null,
            "object_position": null,
            "order": null,
            "overflow": null,
            "overflow_x": null,
            "overflow_y": null,
            "padding": null,
            "right": null,
            "top": null,
            "visibility": null,
            "width": null
          }
        },
        "e1d78f38a64149a4962689f8c3c23530": {
          "model_module": "@jupyter-widgets/base",
          "model_name": "LayoutModel",
          "model_module_version": "1.2.0",
          "state": {
            "_model_module": "@jupyter-widgets/base",
            "_model_module_version": "1.2.0",
            "_model_name": "LayoutModel",
            "_view_count": null,
            "_view_module": "@jupyter-widgets/base",
            "_view_module_version": "1.2.0",
            "_view_name": "LayoutView",
            "align_content": null,
            "align_items": null,
            "align_self": null,
            "border": null,
            "bottom": null,
            "display": null,
            "flex": null,
            "flex_flow": null,
            "grid_area": null,
            "grid_auto_columns": null,
            "grid_auto_flow": null,
            "grid_auto_rows": null,
            "grid_column": null,
            "grid_gap": null,
            "grid_row": null,
            "grid_template_areas": null,
            "grid_template_columns": null,
            "grid_template_rows": null,
            "height": null,
            "justify_content": null,
            "justify_items": null,
            "left": null,
            "margin": null,
            "max_height": null,
            "max_width": null,
            "min_height": null,
            "min_width": null,
            "object_fit": null,
            "object_position": null,
            "order": null,
            "overflow": null,
            "overflow_x": null,
            "overflow_y": null,
            "padding": null,
            "right": null,
            "top": null,
            "visibility": null,
            "width": null
          }
        },
        "bd0324cbb38f462492efc89d07a73606": {
          "model_module": "@jupyter-widgets/controls",
          "model_name": "DescriptionStyleModel",
          "model_module_version": "1.5.0",
          "state": {
            "_model_module": "@jupyter-widgets/controls",
            "_model_module_version": "1.5.0",
            "_model_name": "DescriptionStyleModel",
            "_view_count": null,
            "_view_module": "@jupyter-widgets/base",
            "_view_module_version": "1.2.0",
            "_view_name": "StyleView",
            "description_width": ""
          }
        },
        "90aa0b624d1c40109bcde627b74b44f9": {
          "model_module": "@jupyter-widgets/base",
          "model_name": "LayoutModel",
          "model_module_version": "1.2.0",
          "state": {
            "_model_module": "@jupyter-widgets/base",
            "_model_module_version": "1.2.0",
            "_model_name": "LayoutModel",
            "_view_count": null,
            "_view_module": "@jupyter-widgets/base",
            "_view_module_version": "1.2.0",
            "_view_name": "LayoutView",
            "align_content": null,
            "align_items": null,
            "align_self": null,
            "border": null,
            "bottom": null,
            "display": null,
            "flex": null,
            "flex_flow": null,
            "grid_area": null,
            "grid_auto_columns": null,
            "grid_auto_flow": null,
            "grid_auto_rows": null,
            "grid_column": null,
            "grid_gap": null,
            "grid_row": null,
            "grid_template_areas": null,
            "grid_template_columns": null,
            "grid_template_rows": null,
            "height": null,
            "justify_content": null,
            "justify_items": null,
            "left": null,
            "margin": null,
            "max_height": null,
            "max_width": null,
            "min_height": null,
            "min_width": null,
            "object_fit": null,
            "object_position": null,
            "order": null,
            "overflow": null,
            "overflow_x": null,
            "overflow_y": null,
            "padding": null,
            "right": null,
            "top": null,
            "visibility": null,
            "width": null
          }
        },
        "2ba2226f41024d4e946800bf2dd1d35d": {
          "model_module": "@jupyter-widgets/controls",
          "model_name": "ProgressStyleModel",
          "model_module_version": "1.5.0",
          "state": {
            "_model_module": "@jupyter-widgets/controls",
            "_model_module_version": "1.5.0",
            "_model_name": "ProgressStyleModel",
            "_view_count": null,
            "_view_module": "@jupyter-widgets/base",
            "_view_module_version": "1.2.0",
            "_view_name": "StyleView",
            "bar_color": null,
            "description_width": ""
          }
        }
      }
    },
    "accelerator": "GPU"
  },
  "cells": [
    {
      "cell_type": "markdown",
      "metadata": {
        "id": "view-in-github",
        "colab_type": "text"
      },
      "source": [
        "<a href=\"https://colab.research.google.com/github/aditya2kahol/wandb-model-dev-course/blob/main/demo/Assignment_2_wandb.ipynb\" target=\"_parent\"><img src=\"https://colab.research.google.com/assets/colab-badge.svg\" alt=\"Open In Colab\"/></a>"
      ]
    },
    {
      "cell_type": "markdown",
      "source": [
        "# Assignment 2\n",
        "# Hyperparameter opitmization using WandB Sweeps\n",
        "\n",
        "## Dataset used: Imagenette database\n",
        "\n",
        "<tt>[click here](https://course.fast.ai/datasets) to get to the dataset</tt>"
      ],
      "metadata": {
        "id": "jbUwoHZiD9O1"
      }
    },
    {
      "cell_type": "markdown",
      "source": [
        "``It's a continuation of the previous assignment``\n",
        "\n",
        "[click here](https://wandb.ai/adi001/imagenette-project/reports/Assignment-1-Imagenette-Classification--VmlldzoyMjY1ODMx?accessToken=lel4cqgd1tkn32q9uohd9odys5iczycl8mhllfabemrkjqgj42ssn02ebugjizw3) for the report for Assignment-1"
      ],
      "metadata": {
        "id": "Y70TWdE0JVmy"
      }
    },
    {
      "cell_type": "code",
      "source": [
        "#set project name that you were working on.\n",
        "PROJECT_NAME = 'imagenette-project'\n",
        "ENTITY = None"
      ],
      "metadata": {
        "id": "AeAHTpgFJcSM"
      },
      "execution_count": 1,
      "outputs": []
    },
    {
      "cell_type": "code",
      "execution_count": 2,
      "metadata": {
        "id": "j8RqBlD4D8lG",
        "colab": {
          "base_uri": "https://localhost:8080/"
        },
        "outputId": "e8d0557f-e510-4851-b363-c46ab1afa44b"
      },
      "outputs": [
        {
          "output_type": "stream",
          "name": "stdout",
          "text": [
            "\u001b[K     |████████████████████████████████| 1.8 MB 33.5 MB/s \n",
            "\u001b[K     |████████████████████████████████| 146 kB 71.6 MB/s \n",
            "\u001b[K     |████████████████████████████████| 181 kB 68.7 MB/s \n",
            "\u001b[K     |████████████████████████████████| 63 kB 2.0 MB/s \n",
            "\u001b[?25h  Building wheel for pathtools (setup.py) ... \u001b[?25l\u001b[?25hdone\n"
          ]
        }
      ],
      "source": [
        "!pip install wandb --upgrade --quiet"
      ]
    },
    {
      "cell_type": "code",
      "source": [
        "import os\n",
        "import wandb\n",
        "import tarfile\n",
        "import numpy as np\n",
        "import pandas as pd"
      ],
      "metadata": {
        "id": "BUdkImrrEhtm"
      },
      "execution_count": 3,
      "outputs": []
    },
    {
      "cell_type": "code",
      "source": [
        "import torch\n",
        "import torch.nn as nn\n",
        "import torch.optim as optim\n",
        "import torch.nn.functional as F\n",
        "from torch.optim.lr_scheduler import OneCycleLR\n",
        "\n",
        "import torchvision\n",
        "import torchvision.transforms as T\n",
        "from torch.utils.data import Dataset\n",
        "from torch.utils.data import DataLoader\n",
        "from torchvision.utils import make_grid\n",
        "from torch.utils.data import random_split\n",
        "from torchvision.datasets import ImageFolder\n",
        "from torchvision.datasets.utils import download_url"
      ],
      "metadata": {
        "id": "HCvUNxeLOcKh"
      },
      "execution_count": 4,
      "outputs": []
    },
    {
      "cell_type": "code",
      "source": [
        "torch.set_default_dtype(d = torch.float32)"
      ],
      "metadata": {
        "id": "vCf6Na6JeM4i"
      },
      "execution_count": 5,
      "outputs": []
    },
    {
      "cell_type": "code",
      "source": [
        "# Download dataset\n",
        "dataset_url = \"https://s3.amazonaws.com/fast-ai-imageclas/imagenette-160.tgz\"\n",
        "download_url(dataset_url, '.')"
      ],
      "metadata": {
        "colab": {
          "base_uri": "https://localhost:8080/",
          "height": 67,
          "referenced_widgets": [
            "b95db67cc17f462fa7e5ee5712678384",
            "4bec158d478d4e519956e3cc85d0e29d",
            "c8db49e89a13439192a71b94861a7169",
            "d392975c12eb4b5c8b2aeadc1056db2f",
            "f535221ea4f84d8486a0621f61c2d80a",
            "e44b91c1220a44d7b72e76b2c91b024f",
            "bfef4d9355314d9f9690562e432f4d21",
            "1d7e18144c3b4f4a912793da6555df10",
            "e504abb8614b467f835a7e65905a726c",
            "3f33528325bb42b5b0e530f3a720ee8e",
            "4b02d11e94f24c7e90df3d774bb49885"
          ]
        },
        "id": "WaFIPqVeNPkL",
        "outputId": "10e395a6-6d3d-479a-f663-0fb93b50589d"
      },
      "execution_count": 6,
      "outputs": [
        {
          "output_type": "stream",
          "name": "stdout",
          "text": [
            "Downloading https://s3.amazonaws.com/fast-ai-imageclas/imagenette-160.tgz to ./imagenette-160.tgz\n"
          ]
        },
        {
          "output_type": "display_data",
          "data": {
            "text/plain": [
              "  0%|          | 0/98752094 [00:00<?, ?it/s]"
            ],
            "application/vnd.jupyter.widget-view+json": {
              "version_major": 2,
              "version_minor": 0,
              "model_id": "b95db67cc17f462fa7e5ee5712678384"
            }
          },
          "metadata": {}
        }
      ]
    },
    {
      "cell_type": "code",
      "source": [
        "# Extract from archive\n",
        "with tarfile.open('./imagenette-160.tgz', 'r:gz') as tar:\n",
        "    tar.extractall(path='./data')"
      ],
      "metadata": {
        "id": "egdAi7slNg-o"
      },
      "execution_count": 7,
      "outputs": []
    },
    {
      "cell_type": "code",
      "source": [
        "data_dir = './data/imagenette-160/train'\n",
        "test_dir = './data/imagenette-160/val'"
      ],
      "metadata": {
        "id": "4-hvzsXoN8kX"
      },
      "execution_count": 8,
      "outputs": []
    },
    {
      "cell_type": "code",
      "source": [
        "stats = ((0.4914, 0.4822, 0.4465), (0.2023, 0.1994, 0.2010))\n",
        "Transform = T.Compose([T.ToTensor(),\n",
        "                       T.Normalize(*stats, inplace = True),\n",
        "                       T.Resize(size = (80,80))])"
      ],
      "metadata": {
        "id": "9ZxzyZ6mNpeA"
      },
      "execution_count": 9,
      "outputs": []
    },
    {
      "cell_type": "code",
      "source": [
        "dataset = ImageFolder(root = data_dir, transform = Transform)\n",
        "test_dataset = ImageFolder(root = test_dir, transform = Transform)\n",
        "print(f\"Dataset length = {len(dataset)}\")"
      ],
      "metadata": {
        "colab": {
          "base_uri": "https://localhost:8080/"
        },
        "id": "qkUlF9YXNyP5",
        "outputId": "58a1627b-56f4-4c78-c75d-c18fd807f801"
      },
      "execution_count": 10,
      "outputs": [
        {
          "output_type": "stream",
          "name": "stdout",
          "text": [
            "Dataset length = 12894\n"
          ]
        }
      ]
    },
    {
      "cell_type": "code",
      "source": [
        "#decide validation and training size\n",
        "val_size = int(0.1 * len(dataset))\n",
        "train_size = len(dataset) - val_size\n",
        "\n",
        "#split the data at random\n",
        "train_ds, val_ds = random_split(dataset, [train_size, val_size])\n",
        "\n",
        "len(train_ds), len(val_ds)"
      ],
      "metadata": {
        "colab": {
          "base_uri": "https://localhost:8080/"
        },
        "id": "vN3WFHNSGuEM",
        "outputId": "ad176c5f-7e8d-4451-e02a-f01658ebeb06"
      },
      "execution_count": 11,
      "outputs": [
        {
          "output_type": "execute_result",
          "data": {
            "text/plain": [
              "(11605, 1289)"
            ]
          },
          "metadata": {},
          "execution_count": 11
        }
      ]
    },
    {
      "cell_type": "markdown",
      "source": [
        "## Login to wandb"
      ],
      "metadata": {
        "id": "9QTzXa5OFDmm"
      }
    },
    {
      "cell_type": "code",
      "source": [
        "wandb.login()"
      ],
      "metadata": {
        "colab": {
          "base_uri": "https://localhost:8080/",
          "height": 70
        },
        "id": "y7d2rZ-HFGtV",
        "outputId": "bb902d4b-a311-4589-fb58-12d2d4990add"
      },
      "execution_count": 12,
      "outputs": [
        {
          "output_type": "display_data",
          "data": {
            "text/plain": [
              "<IPython.core.display.Javascript object>"
            ],
            "application/javascript": [
              "\n",
              "        window._wandbApiKey = new Promise((resolve, reject) => {\n",
              "            function loadScript(url) {\n",
              "            return new Promise(function(resolve, reject) {\n",
              "                let newScript = document.createElement(\"script\");\n",
              "                newScript.onerror = reject;\n",
              "                newScript.onload = resolve;\n",
              "                document.body.appendChild(newScript);\n",
              "                newScript.src = url;\n",
              "            });\n",
              "            }\n",
              "            loadScript(\"https://cdn.jsdelivr.net/npm/postmate/build/postmate.min.js\").then(() => {\n",
              "            const iframe = document.createElement('iframe')\n",
              "            iframe.style.cssText = \"width:0;height:0;border:none\"\n",
              "            document.body.appendChild(iframe)\n",
              "            const handshake = new Postmate({\n",
              "                container: iframe,\n",
              "                url: 'https://wandb.ai/authorize'\n",
              "            });\n",
              "            const timeout = setTimeout(() => reject(\"Couldn't auto authenticate\"), 5000)\n",
              "            handshake.then(function(child) {\n",
              "                child.on('authorize', data => {\n",
              "                    clearTimeout(timeout)\n",
              "                    resolve(data)\n",
              "                });\n",
              "            });\n",
              "            })\n",
              "        });\n",
              "    "
            ]
          },
          "metadata": {}
        },
        {
          "output_type": "stream",
          "name": "stderr",
          "text": [
            "\u001b[34m\u001b[1mwandb\u001b[0m: Appending key for api.wandb.ai to your netrc file: /root/.netrc\n"
          ]
        },
        {
          "output_type": "execute_result",
          "data": {
            "text/plain": [
              "True"
            ]
          },
          "metadata": {},
          "execution_count": 12
        }
      ]
    },
    {
      "cell_type": "markdown",
      "source": [
        "## Setup sweep configuration\n",
        "\n",
        "<b>Useful beginner friendly resource used for this notebook</b>\n",
        "1. [Youtube](https://www.youtube.com/watch?v=9zrmUIlScdY&list=PLD80i8An1OEGajeVo15ohAQYF1Ttle0lk&index=6)\n",
        "2. [Colab notebook](https://colab.research.google.com/github/wandb/examples/blob/master/colabs/pytorch/Organizing_Hyperparameter_Sweeps_in_PyTorch_with_W%26B.ipynb#scrollTo=Tn0Kr1EHDWak)"
      ],
      "metadata": {
        "id": "QB9VkDjIFAXX"
      }
    },
    {
      "cell_type": "markdown",
      "source": [
        "Following search strategies are available for sweeps:\n",
        "- grid search\n",
        "- random search\n",
        "- bayesian search\n",
        "\n",
        "we will work with ``random`` search"
      ],
      "metadata": {
        "id": "Bmq-Tor3FOa-"
      }
    },
    {
      "cell_type": "code",
      "source": [
        "#set search strategy method\n",
        "sweep_config = {\n",
        "    'method': 'random'\n",
        "    }\n",
        "\n",
        "#set metric information --> we want to minimize the loss function.\n",
        "metric = {\n",
        "    'name': 'Validation accuracy',\n",
        "    'goal': 'maximize'   \n",
        "    }\n",
        "sweep_config['metric'] = metric\n",
        "\n",
        "#set all other hyperparameters\n",
        "parameters_dict = {\n",
        "    'epochs':{\n",
        "        'values': [10,15,20]\n",
        "    },\n",
        "    'optimizer':{\n",
        "        'values': ['sgd','adam']\n",
        "    },\n",
        "    'momentum':{\n",
        "        'distribution': 'uniform',\n",
        "        'min': 0.5,\n",
        "        'max': 0.99\n",
        "    },\n",
        "    'dropout': {\n",
        "          'values': [0, 0.1, 0.2]\n",
        "    },\n",
        "    'batch_size':{\n",
        "        'distribution': 'q_log_uniform_values',\n",
        "        'q': 8,\n",
        "        'min': 70,\n",
        "        'max': 110 \n",
        "    }\n",
        "    }\n",
        "sweep_config['parameters'] = parameters_dict\n",
        "\n",
        "#set early stopping criteria\n",
        "early_stop_dict = {\n",
        "    'type': 'hyperband',\n",
        "    'max_iter': 20,\n",
        "    's': 2\n",
        "}\n",
        "sweep_config['early_terminate'] = early_stop_dict"
      ],
      "metadata": {
        "id": "PFVz9v5rEuT1"
      },
      "execution_count": 13,
      "outputs": []
    },
    {
      "cell_type": "code",
      "source": [
        "from pprint import pprint\n",
        "pprint(sweep_config)"
      ],
      "metadata": {
        "colab": {
          "base_uri": "https://localhost:8080/"
        },
        "id": "WjR4CTXzIm8t",
        "outputId": "d602f121-f752-48fb-ddbc-42105a3a23ac"
      },
      "execution_count": 14,
      "outputs": [
        {
          "output_type": "stream",
          "name": "stdout",
          "text": [
            "{'early_terminate': {'max_iter': 20, 's': 2, 'type': 'hyperband'},\n",
            " 'method': 'random',\n",
            " 'metric': {'goal': 'maximize', 'name': 'Validation accuracy'},\n",
            " 'parameters': {'batch_size': {'distribution': 'q_log_uniform_values',\n",
            "                               'max': 110,\n",
            "                               'min': 70,\n",
            "                               'q': 8},\n",
            "                'dropout': {'values': [0, 0.1, 0.2]},\n",
            "                'epochs': {'values': [10, 15, 20]},\n",
            "                'momentum': {'distribution': 'uniform',\n",
            "                             'max': 0.99,\n",
            "                             'min': 0.5},\n",
            "                'optimizer': {'values': ['sgd', 'adam']}}}\n"
          ]
        }
      ]
    },
    {
      "cell_type": "markdown",
      "source": [
        "## Initialize sweep configuration"
      ],
      "metadata": {
        "id": "eJu6E5sjJKBG"
      }
    },
    {
      "cell_type": "code",
      "source": [
        "sweep_id = wandb.sweep(sweep_config, project= PROJECT_NAME, entity = ENTITY)"
      ],
      "metadata": {
        "colab": {
          "base_uri": "https://localhost:8080/"
        },
        "id": "PAkLnZwFIz65",
        "outputId": "0ac78db5-a70e-4950-e543-9f7535722722"
      },
      "execution_count": 15,
      "outputs": [
        {
          "output_type": "stream",
          "name": "stdout",
          "text": [
            "Create sweep with ID: 3ud9e51t\n",
            "Sweep URL: https://wandb.ai/adi001/imagenette-project/sweeps/3ud9e51t\n"
          ]
        }
      ]
    },
    {
      "cell_type": "code",
      "source": [
        "print(sweep_id)"
      ],
      "metadata": {
        "colab": {
          "base_uri": "https://localhost:8080/"
        },
        "id": "LTxkxe9vKABx",
        "outputId": "07bd2b71-938b-4a10-9c8e-df47a82ff2dd"
      },
      "execution_count": 16,
      "outputs": [
        {
          "output_type": "stream",
          "name": "stdout",
          "text": [
            "3ud9e51t\n"
          ]
        }
      ]
    },
    {
      "cell_type": "markdown",
      "source": [
        "## Define your training pipeline"
      ],
      "metadata": {
        "id": "5UCHCJBIKFSE"
      }
    },
    {
      "cell_type": "code",
      "source": [
        "#import ResNet9 for the training pipeline\n",
        "from model import ResNet9"
      ],
      "metadata": {
        "id": "LwAeZdDWGeP2"
      },
      "execution_count": 17,
      "outputs": []
    },
    {
      "cell_type": "code",
      "source": [
        "#set device\n",
        "device = torch.device('cuda') if torch.cuda.is_available() else torch.device('cpu')\n",
        "device"
      ],
      "metadata": {
        "colab": {
          "base_uri": "https://localhost:8080/"
        },
        "id": "Uyh_XyDWG1ag",
        "outputId": "ddf401e9-ddb3-4c14-f5f1-fe3fb92193b5"
      },
      "execution_count": 18,
      "outputs": [
        {
          "output_type": "execute_result",
          "data": {
            "text/plain": [
              "device(type='cuda')"
            ]
          },
          "metadata": {},
          "execution_count": 18
        }
      ]
    },
    {
      "cell_type": "code",
      "source": [
        "def pipeline():\n",
        "  #set default configuration for hyperparameters\n",
        "  config_dict = dict(\n",
        "      batch_size = 80,\n",
        "      epochs = 2,\n",
        "      optimizer = 'sgd',\n",
        "      momentum = 0.9,\n",
        "      dropout = 0.1\n",
        "  )\n",
        "  #set some other important parameters\n",
        "  max_lr = 0.1 #we will manually set a learning rate scheduler.\n",
        "  grad_clip = 0.7 #gradient clipping is performed manually.\n",
        "  weight_decay = 1e-4 #weight decay is set manually.\n",
        "\n",
        "  with wandb.init(config = config_dict):\n",
        "    #set configuration\n",
        "    config = wandb.config\n",
        "\n",
        "    #build dataloaders\n",
        "    train_dl, val_dl = build_dataloaders(train_ds, val_ds, config.batch_size)\n",
        "\n",
        "    #build model\n",
        "    model = build_model(config.dropout)\n",
        "    \n",
        "    #build optimizer\n",
        "    optimizer = build_optimizer(model, max_lr, config.optimizer, config.momentum, weight_decay) \n",
        "    \n",
        "    #set loss criterion\n",
        "    criterion = nn.CrossEntropyLoss()\n",
        "\n",
        "    #set schedular\n",
        "    schedular = OneCycleLR(optimizer,\n",
        "                           max_lr = max_lr,\n",
        "                           steps_per_epoch = len(train_dl),\n",
        "                           epochs = config.epochs) \n",
        "\n",
        "    #train the model\n",
        "    torch.cuda.empty_cache()\n",
        "    for epoch in range(config.epochs):\n",
        "      \n",
        "      model.train()\n",
        "      for batch in train_dl:\n",
        "        train_batch(batch, model, optimizer, criterion, grad_clip = grad_clip)\n",
        "        schedular.step()\n",
        "      \n",
        "      model.eval()\n",
        "      for batch in val_dl:\n",
        "        evaluate_batch(batch, model, criterion)\n",
        "    \n",
        "    #prints final results for the whole validation data.\n",
        "    Validation_acc = evaluate_model(model, val_dl)\n",
        "    wandb.log({\"Validation accuracy\": Validation_acc,\n",
        "               \"Optimizer\": config.optimizer,\n",
        "               \"Batch Size\": config.batch_size,\n",
        "               \"Epochs\": config.epochs,\n",
        "               \"Dropout\":config.dropout,\n",
        "               \"Momentum\": config.momentum,\n",
        "               \"Max-LR\":max_lr})"
      ],
      "metadata": {
        "id": "oQJCIphSX5TH"
      },
      "execution_count": 28,
      "outputs": []
    },
    {
      "cell_type": "markdown",
      "source": [
        "### Define all utility functions"
      ],
      "metadata": {
        "id": "fkjhn46B6Op9"
      }
    },
    {
      "cell_type": "code",
      "source": [
        "def build_dataloaders(train_ds, val_ds, batch_size):\n",
        "  train_dl = DataLoader(dataset = train_ds,\n",
        "                        batch_size = batch_size,\n",
        "                        shuffle = True,\n",
        "                        num_workers = 2,\n",
        "                        pin_memory = True)\n",
        "  val_dl = DataLoader(dataset = val_ds,\n",
        "                      batch_size = 2*batch_size,\n",
        "                      num_workers = 2,\n",
        "                      pin_memory = True)\n",
        "  \n",
        "  return train_dl, val_dl"
      ],
      "metadata": {
        "id": "M9_dK7NB6KCF"
      },
      "execution_count": 29,
      "outputs": []
    },
    {
      "cell_type": "code",
      "source": [
        "def build_model(dropout):\n",
        "  model = ResNet9(3,10,dropout = dropout)\n",
        "  return model.to(device)"
      ],
      "metadata": {
        "id": "mG4FDpJe6kps"
      },
      "execution_count": 30,
      "outputs": []
    },
    {
      "cell_type": "code",
      "source": [
        "def build_optimizer(model, max_lr, opt, momentum, weight_decay):\n",
        "  if opt == 'sgd':\n",
        "    optimizer = optim.SGD(model.parameters(),\n",
        "                          lr = max_lr,\n",
        "                          momentum = momentum,\n",
        "                          weight_decay = weight_decay)\n",
        "  elif opt == 'adam':\n",
        "    optimizer = optim.Adam(model.parameters(),\n",
        "                           lr = max_lr,\n",
        "                           weight_decay = weight_decay)\n",
        "  \n",
        "  return optimizer"
      ],
      "metadata": {
        "id": "ptPihUOo6bvo"
      },
      "execution_count": 31,
      "outputs": []
    },
    {
      "cell_type": "code",
      "source": [
        "def train_batch(batch, model, optimizer, criterion, grad_clip = None):\n",
        "  images, labels = batch\n",
        "  images = images.to(device)\n",
        "  labels = labels.to(device)\n",
        "  \n",
        "  optimizer.zero_grad()\n",
        "\n",
        "  #forward pass\n",
        "  probs = model(images)\n",
        "  #evaluate loss\n",
        "  loss = criterion(probs, labels)\n",
        "  #backwards pass\n",
        "  loss.backward()\n",
        "  #gradient clipping\n",
        "  if grad_clip:\n",
        "    nn.utils.clip_grad_value_(model.parameters(), grad_clip)\n",
        "  #weight update step\n",
        "  optimizer.step()\n",
        "\n",
        "  #log batch loss\n",
        "  wandb.log({\"BATCH-LOSS\": loss.item()})"
      ],
      "metadata": {
        "id": "f3PPgNTD6q8M"
      },
      "execution_count": 32,
      "outputs": []
    },
    {
      "cell_type": "code",
      "source": [
        "@torch.no_grad()\n",
        "def evaluate_batch(batch, model, criterion):\n",
        "  images, labels = batch\n",
        "  probs = model(images.to(device))\n",
        "  #evaluate loss\n",
        "  loss = criterion(probs, labels.to(device))\n",
        "\n",
        "  #evaluate accuracy\n",
        "  _, preds = torch.max(probs, dim = 1)\n",
        "  accuracy = torch.sum(preds == labels.to(device)).item() / len(preds)\n",
        "\n",
        "  wandb.log({\"VAL-LOSS\":loss.item(),\n",
        "             \"VAL-ACC\": accuracy})"
      ],
      "metadata": {
        "id": "uN8CRybrQ15d"
      },
      "execution_count": 33,
      "outputs": []
    },
    {
      "cell_type": "code",
      "source": [
        "def evaluate_model(model, dl):\n",
        "  acc = []\n",
        "  for images, labels in dl:\n",
        "    probs = model(images.to(device))\n",
        "    _, preds = torch.max(probs, dim = 1)\n",
        "    acc.append(torch.sum(preds == labels.to(device)).item() / len(preds))\n",
        "  \n",
        "  print(f\"Final Validation Accuracy: {np.mean(acc)}\")\n",
        "  \n",
        "  return np.mean(acc)"
      ],
      "metadata": {
        "id": "KXshju4YShnS"
      },
      "execution_count": 34,
      "outputs": []
    },
    {
      "cell_type": "markdown",
      "source": [
        "## Let's sweep"
      ],
      "metadata": {
        "id": "B3tk64N0UT6q"
      }
    },
    {
      "cell_type": "code",
      "source": [
        "wandb.agent(sweep_id, pipeline, count = 4)"
      ],
      "metadata": {
        "colab": {
          "base_uri": "https://localhost:8080/",
          "height": 1000,
          "referenced_widgets": [
            "51c4956f737444199f71746d3d35adef",
            "2c41da2b182440778087b5a31b08673e",
            "a8595fc2be294a68a04cf000d4887925",
            "e2d99e9be051488b987f6a283717b940",
            "55ec1812cf674df99b2f1949da136ac1",
            "fc077eeeaa8b4d03bf2016a0a76ac44e",
            "d5237b85434f45e5919b633f2fb3a625",
            "62fc89be7127490b97f0f5455b06975b",
            "aaa5b9d911af4af182e65b017f0a4bbf",
            "1400ada2d4534196a61717487cecdc65",
            "a65ba7fdd91c4bc9997f3a07b441b7c0",
            "e1ea264486ce49a88fe0644989d7dc92",
            "2c609b69d1e14a999b98f312ad8f842b",
            "b215e2910525447abb334607563d608c",
            "9a421f5dbf5d47c6baef0ce300cbe291",
            "97ea91533b5b4096b8501b370d06d3a5",
            "ddbaa20a6e9d475caca584a928b6c922",
            "7b9502feab0f4d6f9d231be728a47c1d",
            "64af172afbf2441dab18d699db56a76c",
            "8dfa9a4131314191bfe647a63fffa457",
            "77ff01ac379949928a8c675708a06561",
            "e5b55647fae64a80a2d13531aa6fdbf5",
            "22d11bb33cd94f848c4141b605aaa52f",
            "8209635467574a7dbee31a4810cedcd4",
            "d65a7aa48c8a4c119e17b1244ac246df",
            "36074e34ad5b4fcdb3381cd51fa94e0e",
            "abd723bf049845b5b313469242a25adf",
            "b3da4509be8c4de68cdaa6f3ee1373fd",
            "e1d78f38a64149a4962689f8c3c23530",
            "bd0324cbb38f462492efc89d07a73606",
            "90aa0b624d1c40109bcde627b74b44f9",
            "2ba2226f41024d4e946800bf2dd1d35d"
          ]
        },
        "id": "OplJUhr7UTQi",
        "outputId": "01c90138-33b5-4365-dc68-e3185a955d63"
      },
      "execution_count": 35,
      "outputs": [
        {
          "output_type": "stream",
          "name": "stderr",
          "text": [
            "\u001b[34m\u001b[1mwandb\u001b[0m: Agent Starting Run: h7gx9ue9 with config:\n",
            "\u001b[34m\u001b[1mwandb\u001b[0m: \tbatch_size: 80\n",
            "\u001b[34m\u001b[1mwandb\u001b[0m: \tdropout: 0\n",
            "\u001b[34m\u001b[1mwandb\u001b[0m: \tepochs: 10\n",
            "\u001b[34m\u001b[1mwandb\u001b[0m: \tmomentum: 0.9549371687257296\n",
            "\u001b[34m\u001b[1mwandb\u001b[0m: \toptimizer: adam\n"
          ]
        },
        {
          "output_type": "display_data",
          "data": {
            "text/plain": [
              "<IPython.core.display.HTML object>"
            ],
            "text/html": [
              "Tracking run with wandb version 0.12.21"
            ]
          },
          "metadata": {}
        },
        {
          "output_type": "display_data",
          "data": {
            "text/plain": [
              "<IPython.core.display.HTML object>"
            ],
            "text/html": [
              "Run data is saved locally in <code>/content/wandb/run-20220714_115316-h7gx9ue9</code>"
            ]
          },
          "metadata": {}
        },
        {
          "output_type": "display_data",
          "data": {
            "text/plain": [
              "<IPython.core.display.HTML object>"
            ],
            "text/html": [
              "Syncing run <strong><a href=\"https://wandb.ai/adi001/imagenette-project/runs/h7gx9ue9\" target=\"_blank\">fluent-sweep-1</a></strong> to <a href=\"https://wandb.ai/adi001/imagenette-project\" target=\"_blank\">Weights & Biases</a> (<a href=\"https://wandb.me/run\" target=\"_blank\">docs</a>)<br/>Sweep page:  <a href=\"https://wandb.ai/adi001/imagenette-project/sweeps/3ud9e51t\" target=\"_blank\">https://wandb.ai/adi001/imagenette-project/sweeps/3ud9e51t</a>"
            ]
          },
          "metadata": {}
        },
        {
          "output_type": "stream",
          "name": "stdout",
          "text": [
            "Final Validation Accuracy: 0.6203703703703703\n"
          ]
        },
        {
          "output_type": "display_data",
          "data": {
            "text/plain": [
              "<IPython.core.display.HTML object>"
            ],
            "text/html": [
              "Waiting for W&B process to finish... <strong style=\"color:green\">(success).</strong>"
            ]
          },
          "metadata": {}
        },
        {
          "output_type": "display_data",
          "data": {
            "text/plain": [
              "VBox(children=(Label(value='0.001 MB of 0.001 MB uploaded (0.000 MB deduped)\\r'), FloatProgress(value=1.0, max…"
            ],
            "application/vnd.jupyter.widget-view+json": {
              "version_major": 2,
              "version_minor": 0,
              "model_id": "51c4956f737444199f71746d3d35adef"
            }
          },
          "metadata": {}
        },
        {
          "output_type": "display_data",
          "data": {
            "text/plain": [
              "<IPython.core.display.HTML object>"
            ],
            "text/html": [
              "<style>\n",
              "    table.wandb td:nth-child(1) { padding: 0 10px; text-align: left ; width: auto;} td:nth-child(2) {text-align: left ; width: 100%}\n",
              "    .wandb-row { display: flex; flex-direction: row; flex-wrap: wrap; justify-content: flex-start; width: 100% }\n",
              "    .wandb-col { display: flex; flex-direction: column; flex-basis: 100%; flex: 1; padding: 10px; }\n",
              "    </style>\n",
              "<div class=\"wandb-row\"><div class=\"wandb-col\"><h3>Run history:</h3><br/><table class=\"wandb\"><tr><td>BATCH-LOSS</td><td>▇▇█▆▅▄▄▄▄▃▃▃▄▄▃▃▄▃▃▃▃▂▃▃▃▃▃▃▃▃▂▂▂▂▂▂▁▁▁▂</td></tr><tr><td>Batch Size</td><td>▁</td></tr><tr><td>Dropout</td><td>▁</td></tr><tr><td>Epochs</td><td>▁</td></tr><tr><td>Max-LR</td><td>▁</td></tr><tr><td>Momentum</td><td>▁</td></tr><tr><td>VAL-ACC</td><td>▁▂▂▂▂▂▂▁▁▁▁▂▄▄▄▅▄▄▆▅▄▄▄▄▅▃▅▅▆▆█▆▇▇█▇▇▇█▃</td></tr><tr><td>VAL-LOSS</td><td>▃▃▃▃▃▃▄▄█▇█▇▂▃▃▂▂▂▂▂▃▃▂▃▂▃▂▂▂▂▁▂▁▁▁▁▁▁▁▃</td></tr><tr><td>Validation accuracy</td><td>▁</td></tr></table><br/></div><div class=\"wandb-col\"><h3>Run summary:</h3><br/><table class=\"wandb\"><tr><td>BATCH-LOSS</td><td>0.62084</td></tr><tr><td>Batch Size</td><td>80</td></tr><tr><td>Dropout</td><td>0</td></tr><tr><td>Epochs</td><td>10</td></tr><tr><td>Max-LR</td><td>0.1</td></tr><tr><td>Momentum</td><td>0.95494</td></tr><tr><td>Optimizer</td><td>adam</td></tr><tr><td>VAL-ACC</td><td>0.33333</td></tr><tr><td>VAL-LOSS</td><td>1.84968</td></tr><tr><td>Validation accuracy</td><td>0.62037</td></tr></table><br/></div></div>"
            ]
          },
          "metadata": {}
        },
        {
          "output_type": "display_data",
          "data": {
            "text/plain": [
              "<IPython.core.display.HTML object>"
            ],
            "text/html": [
              "Synced <strong style=\"color:#cdcd00\">fluent-sweep-1</strong>: <a href=\"https://wandb.ai/adi001/imagenette-project/runs/h7gx9ue9\" target=\"_blank\">https://wandb.ai/adi001/imagenette-project/runs/h7gx9ue9</a><br/>Synced 5 W&B file(s), 0 media file(s), 0 artifact file(s) and 0 other file(s)"
            ]
          },
          "metadata": {}
        },
        {
          "output_type": "display_data",
          "data": {
            "text/plain": [
              "<IPython.core.display.HTML object>"
            ],
            "text/html": [
              "Find logs at: <code>./wandb/run-20220714_115316-h7gx9ue9/logs</code>"
            ]
          },
          "metadata": {}
        },
        {
          "output_type": "stream",
          "name": "stderr",
          "text": [
            "\u001b[34m\u001b[1mwandb\u001b[0m: Agent Starting Run: s6cpmt5i with config:\n",
            "\u001b[34m\u001b[1mwandb\u001b[0m: \tbatch_size: 96\n",
            "\u001b[34m\u001b[1mwandb\u001b[0m: \tdropout: 0.1\n",
            "\u001b[34m\u001b[1mwandb\u001b[0m: \tepochs: 10\n",
            "\u001b[34m\u001b[1mwandb\u001b[0m: \tmomentum: 0.5809982376212655\n",
            "\u001b[34m\u001b[1mwandb\u001b[0m: \toptimizer: adam\n"
          ]
        },
        {
          "output_type": "display_data",
          "data": {
            "text/plain": [
              "<IPython.core.display.HTML object>"
            ],
            "text/html": [
              "Tracking run with wandb version 0.12.21"
            ]
          },
          "metadata": {}
        },
        {
          "output_type": "display_data",
          "data": {
            "text/plain": [
              "<IPython.core.display.HTML object>"
            ],
            "text/html": [
              "Run data is saved locally in <code>/content/wandb/run-20220714_115631-s6cpmt5i</code>"
            ]
          },
          "metadata": {}
        },
        {
          "output_type": "display_data",
          "data": {
            "text/plain": [
              "<IPython.core.display.HTML object>"
            ],
            "text/html": [
              "Syncing run <strong><a href=\"https://wandb.ai/adi001/imagenette-project/runs/s6cpmt5i\" target=\"_blank\">stoic-sweep-2</a></strong> to <a href=\"https://wandb.ai/adi001/imagenette-project\" target=\"_blank\">Weights & Biases</a> (<a href=\"https://wandb.me/run\" target=\"_blank\">docs</a>)<br/>Sweep page:  <a href=\"https://wandb.ai/adi001/imagenette-project/sweeps/3ud9e51t\" target=\"_blank\">https://wandb.ai/adi001/imagenette-project/sweeps/3ud9e51t</a>"
            ]
          },
          "metadata": {}
        },
        {
          "output_type": "stream",
          "name": "stdout",
          "text": [
            "Final Validation Accuracy: 0.7593413277719847\n"
          ]
        },
        {
          "output_type": "display_data",
          "data": {
            "text/plain": [
              "<IPython.core.display.HTML object>"
            ],
            "text/html": [
              "Waiting for W&B process to finish... <strong style=\"color:green\">(success).</strong>"
            ]
          },
          "metadata": {}
        },
        {
          "output_type": "display_data",
          "data": {
            "text/plain": [
              "VBox(children=(Label(value='0.001 MB of 0.001 MB uploaded (0.000 MB deduped)\\r'), FloatProgress(value=1.0, max…"
            ],
            "application/vnd.jupyter.widget-view+json": {
              "version_major": 2,
              "version_minor": 0,
              "model_id": "aaa5b9d911af4af182e65b017f0a4bbf"
            }
          },
          "metadata": {}
        },
        {
          "output_type": "display_data",
          "data": {
            "text/plain": [
              "<IPython.core.display.HTML object>"
            ],
            "text/html": [
              "<style>\n",
              "    table.wandb td:nth-child(1) { padding: 0 10px; text-align: left ; width: auto;} td:nth-child(2) {text-align: left ; width: 100%}\n",
              "    .wandb-row { display: flex; flex-direction: row; flex-wrap: wrap; justify-content: flex-start; width: 100% }\n",
              "    .wandb-col { display: flex; flex-direction: column; flex-basis: 100%; flex: 1; padding: 10px; }\n",
              "    </style>\n",
              "<div class=\"wandb-row\"><div class=\"wandb-col\"><h3>Run history:</h3><br/><table class=\"wandb\"><tr><td>BATCH-LOSS</td><td>█▆▅▅▅▄▄▄▃▃▃▄▃▃▃▃▄▃▃▃▃▃▃▃▃▂▃▂▂▂▂▁▂▁▁▂▁▁▁▁</td></tr><tr><td>Batch Size</td><td>▁</td></tr><tr><td>Dropout</td><td>▁</td></tr><tr><td>Epochs</td><td>▁</td></tr><tr><td>Max-LR</td><td>▁</td></tr><tr><td>Momentum</td><td>▁</td></tr><tr><td>VAL-ACC</td><td>▁▂▁▁▄▄▃▄▅▅▄▄▃▄▃▃▅▅▄▄▄▅▅▅▅▆▇▆▇▇█▇▇██▇▇███</td></tr><tr><td>VAL-LOSS</td><td>▇▇██▄▄▅▄▃▃▄▄▆▅▅▅▄▃▄▄▄▃▃▃▂▂▂▃▂▂▁▂▁▁▁▂▁▁▁▁</td></tr><tr><td>Validation accuracy</td><td>▁</td></tr></table><br/></div><div class=\"wandb-col\"><h3>Run summary:</h3><br/><table class=\"wandb\"><tr><td>BATCH-LOSS</td><td>0.57232</td></tr><tr><td>Batch Size</td><td>96</td></tr><tr><td>Dropout</td><td>0.1</td></tr><tr><td>Epochs</td><td>10</td></tr><tr><td>Max-LR</td><td>0.1</td></tr><tr><td>Momentum</td><td>0.581</td></tr><tr><td>Optimizer</td><td>adam</td></tr><tr><td>VAL-ACC</td><td>0.77372</td></tr><tr><td>VAL-LOSS</td><td>0.70523</td></tr><tr><td>Validation accuracy</td><td>0.75934</td></tr></table><br/></div></div>"
            ]
          },
          "metadata": {}
        },
        {
          "output_type": "display_data",
          "data": {
            "text/plain": [
              "<IPython.core.display.HTML object>"
            ],
            "text/html": [
              "Synced <strong style=\"color:#cdcd00\">stoic-sweep-2</strong>: <a href=\"https://wandb.ai/adi001/imagenette-project/runs/s6cpmt5i\" target=\"_blank\">https://wandb.ai/adi001/imagenette-project/runs/s6cpmt5i</a><br/>Synced 5 W&B file(s), 0 media file(s), 0 artifact file(s) and 0 other file(s)"
            ]
          },
          "metadata": {}
        },
        {
          "output_type": "display_data",
          "data": {
            "text/plain": [
              "<IPython.core.display.HTML object>"
            ],
            "text/html": [
              "Find logs at: <code>./wandb/run-20220714_115631-s6cpmt5i/logs</code>"
            ]
          },
          "metadata": {}
        },
        {
          "output_type": "stream",
          "name": "stderr",
          "text": [
            "\u001b[34m\u001b[1mwandb\u001b[0m: Agent Starting Run: 93ruerw8 with config:\n",
            "\u001b[34m\u001b[1mwandb\u001b[0m: \tbatch_size: 96\n",
            "\u001b[34m\u001b[1mwandb\u001b[0m: \tdropout: 0.2\n",
            "\u001b[34m\u001b[1mwandb\u001b[0m: \tepochs: 20\n",
            "\u001b[34m\u001b[1mwandb\u001b[0m: \tmomentum: 0.5702403101283393\n",
            "\u001b[34m\u001b[1mwandb\u001b[0m: \toptimizer: sgd\n"
          ]
        },
        {
          "output_type": "display_data",
          "data": {
            "text/plain": [
              "<IPython.core.display.HTML object>"
            ],
            "text/html": [
              "Tracking run with wandb version 0.12.21"
            ]
          },
          "metadata": {}
        },
        {
          "output_type": "display_data",
          "data": {
            "text/plain": [
              "<IPython.core.display.HTML object>"
            ],
            "text/html": [
              "Run data is saved locally in <code>/content/wandb/run-20220714_115947-93ruerw8</code>"
            ]
          },
          "metadata": {}
        },
        {
          "output_type": "display_data",
          "data": {
            "text/plain": [
              "<IPython.core.display.HTML object>"
            ],
            "text/html": [
              "Syncing run <strong><a href=\"https://wandb.ai/adi001/imagenette-project/runs/93ruerw8\" target=\"_blank\">splendid-sweep-3</a></strong> to <a href=\"https://wandb.ai/adi001/imagenette-project\" target=\"_blank\">Weights & Biases</a> (<a href=\"https://wandb.me/run\" target=\"_blank\">docs</a>)<br/>Sweep page:  <a href=\"https://wandb.ai/adi001/imagenette-project/sweeps/3ud9e51t\" target=\"_blank\">https://wandb.ai/adi001/imagenette-project/sweeps/3ud9e51t</a>"
            ]
          },
          "metadata": {}
        },
        {
          "output_type": "stream",
          "name": "stdout",
          "text": [
            "Final Validation Accuracy: 0.8444723236009731\n"
          ]
        },
        {
          "output_type": "display_data",
          "data": {
            "text/plain": [
              "<IPython.core.display.HTML object>"
            ],
            "text/html": [
              "Waiting for W&B process to finish... <strong style=\"color:green\">(success).</strong>"
            ]
          },
          "metadata": {}
        },
        {
          "output_type": "display_data",
          "data": {
            "text/plain": [
              "VBox(children=(Label(value='0.001 MB of 0.001 MB uploaded (0.000 MB deduped)\\r'), FloatProgress(value=1.0, max…"
            ],
            "application/vnd.jupyter.widget-view+json": {
              "version_major": 2,
              "version_minor": 0,
              "model_id": "ddbaa20a6e9d475caca584a928b6c922"
            }
          },
          "metadata": {}
        },
        {
          "output_type": "display_data",
          "data": {
            "text/plain": [
              "<IPython.core.display.HTML object>"
            ],
            "text/html": [
              "<style>\n",
              "    table.wandb td:nth-child(1) { padding: 0 10px; text-align: left ; width: auto;} td:nth-child(2) {text-align: left ; width: 100%}\n",
              "    .wandb-row { display: flex; flex-direction: row; flex-wrap: wrap; justify-content: flex-start; width: 100% }\n",
              "    .wandb-col { display: flex; flex-direction: column; flex-basis: 100%; flex: 1; padding: 10px; }\n",
              "    </style>\n",
              "<div class=\"wandb-row\"><div class=\"wandb-col\"><h3>Run history:</h3><br/><table class=\"wandb\"><tr><td>BATCH-LOSS</td><td>██▇▇▅▅▄▄▃▃▃▃▂▃▂▃▂▂▂▂▂▃▂▂▁▁▁▂▁▁▁▁▁▁▁▁▁▁▁▁</td></tr><tr><td>Batch Size</td><td>▁</td></tr><tr><td>Dropout</td><td>▁</td></tr><tr><td>Epochs</td><td>▁</td></tr><tr><td>Max-LR</td><td>▁</td></tr><tr><td>Momentum</td><td>▁</td></tr><tr><td>VAL-ACC</td><td>▁▁▂▂▅▄▃▄▆▆▆▆▇▆▅▆▇▇▇▇▆▆▇▇▇▇▇▇▇▇████▇██▇██</td></tr><tr><td>VAL-LOSS</td><td>▇▇▇█▃▄▆▅▂▃▂▂▂▂▃▂▁▂▂▂▂▃▂▁▁▁▂▁▂▂▂▁▂▂▂▁▁▂▂▂</td></tr><tr><td>Validation accuracy</td><td>▁</td></tr></table><br/></div><div class=\"wandb-col\"><h3>Run summary:</h3><br/><table class=\"wandb\"><tr><td>BATCH-LOSS</td><td>0.0054</td></tr><tr><td>Batch Size</td><td>96</td></tr><tr><td>Dropout</td><td>0.2</td></tr><tr><td>Epochs</td><td>20</td></tr><tr><td>Max-LR</td><td>0.1</td></tr><tr><td>Momentum</td><td>0.57024</td></tr><tr><td>Optimizer</td><td>sgd</td></tr><tr><td>VAL-ACC</td><td>0.85401</td></tr><tr><td>VAL-LOSS</td><td>0.89105</td></tr><tr><td>Validation accuracy</td><td>0.84447</td></tr></table><br/></div></div>"
            ]
          },
          "metadata": {}
        },
        {
          "output_type": "display_data",
          "data": {
            "text/plain": [
              "<IPython.core.display.HTML object>"
            ],
            "text/html": [
              "Synced <strong style=\"color:#cdcd00\">splendid-sweep-3</strong>: <a href=\"https://wandb.ai/adi001/imagenette-project/runs/93ruerw8\" target=\"_blank\">https://wandb.ai/adi001/imagenette-project/runs/93ruerw8</a><br/>Synced 5 W&B file(s), 0 media file(s), 0 artifact file(s) and 0 other file(s)"
            ]
          },
          "metadata": {}
        },
        {
          "output_type": "display_data",
          "data": {
            "text/plain": [
              "<IPython.core.display.HTML object>"
            ],
            "text/html": [
              "Find logs at: <code>./wandb/run-20220714_115947-93ruerw8/logs</code>"
            ]
          },
          "metadata": {}
        },
        {
          "output_type": "stream",
          "name": "stderr",
          "text": [
            "\u001b[34m\u001b[1mwandb\u001b[0m: Agent Starting Run: bzwp5u69 with config:\n",
            "\u001b[34m\u001b[1mwandb\u001b[0m: \tbatch_size: 112\n",
            "\u001b[34m\u001b[1mwandb\u001b[0m: \tdropout: 0.2\n",
            "\u001b[34m\u001b[1mwandb\u001b[0m: \tepochs: 15\n",
            "\u001b[34m\u001b[1mwandb\u001b[0m: \tmomentum: 0.5265038404227127\n",
            "\u001b[34m\u001b[1mwandb\u001b[0m: \toptimizer: sgd\n"
          ]
        },
        {
          "output_type": "display_data",
          "data": {
            "text/plain": [
              "<IPython.core.display.HTML object>"
            ],
            "text/html": [
              "Tracking run with wandb version 0.12.21"
            ]
          },
          "metadata": {}
        },
        {
          "output_type": "display_data",
          "data": {
            "text/plain": [
              "<IPython.core.display.HTML object>"
            ],
            "text/html": [
              "Run data is saved locally in <code>/content/wandb/run-20220714_120605-bzwp5u69</code>"
            ]
          },
          "metadata": {}
        },
        {
          "output_type": "display_data",
          "data": {
            "text/plain": [
              "<IPython.core.display.HTML object>"
            ],
            "text/html": [
              "Syncing run <strong><a href=\"https://wandb.ai/adi001/imagenette-project/runs/bzwp5u69\" target=\"_blank\">misty-sweep-4</a></strong> to <a href=\"https://wandb.ai/adi001/imagenette-project\" target=\"_blank\">Weights & Biases</a> (<a href=\"https://wandb.me/run\" target=\"_blank\">docs</a>)<br/>Sweep page:  <a href=\"https://wandb.ai/adi001/imagenette-project/sweeps/3ud9e51t\" target=\"_blank\">https://wandb.ai/adi001/imagenette-project/sweeps/3ud9e51t</a>"
            ]
          },
          "metadata": {}
        },
        {
          "output_type": "stream",
          "name": "stdout",
          "text": [
            "Final Validation Accuracy: 0.8446349323753171\n"
          ]
        },
        {
          "output_type": "display_data",
          "data": {
            "text/plain": [
              "<IPython.core.display.HTML object>"
            ],
            "text/html": [
              "Waiting for W&B process to finish... <strong style=\"color:green\">(success).</strong>"
            ]
          },
          "metadata": {}
        },
        {
          "output_type": "display_data",
          "data": {
            "text/plain": [
              "VBox(children=(Label(value='0.001 MB of 0.001 MB uploaded (0.000 MB deduped)\\r'), FloatProgress(value=1.0, max…"
            ],
            "application/vnd.jupyter.widget-view+json": {
              "version_major": 2,
              "version_minor": 0,
              "model_id": "d65a7aa48c8a4c119e17b1244ac246df"
            }
          },
          "metadata": {}
        },
        {
          "output_type": "display_data",
          "data": {
            "text/plain": [
              "<IPython.core.display.HTML object>"
            ],
            "text/html": [
              "<style>\n",
              "    table.wandb td:nth-child(1) { padding: 0 10px; text-align: left ; width: auto;} td:nth-child(2) {text-align: left ; width: 100%}\n",
              "    .wandb-row { display: flex; flex-direction: row; flex-wrap: wrap; justify-content: flex-start; width: 100% }\n",
              "    .wandb-col { display: flex; flex-direction: column; flex-basis: 100%; flex: 1; padding: 10px; }\n",
              "    </style>\n",
              "<div class=\"wandb-row\"><div class=\"wandb-col\"><h3>Run history:</h3><br/><table class=\"wandb\"><tr><td>BATCH-LOSS</td><td>█▆▆▅▅▄▄▃▃▃▃▃▃▃▃▃▂▂▂▂▂▂▂▂▂▂▂▂▂▁▂▁▁▁▁▁▁▁▁▁</td></tr><tr><td>Batch Size</td><td>▁</td></tr><tr><td>Dropout</td><td>▁</td></tr><tr><td>Epochs</td><td>▁</td></tr><tr><td>Max-LR</td><td>▁</td></tr><tr><td>Momentum</td><td>▁</td></tr><tr><td>VAL-ACC</td><td>▂▁▁▃▃▃▄▃▄▅▄▇▆▆▆▆▆▅▆▆▆▇▇▇▆▇▇▇▇▇▇█████▇▇██</td></tr><tr><td>VAL-LOSS</td><td>▇██▆▅▅▄▅▄▄▄▂▂▂▃▃▃▃▃▂▂▂▂▂▂▁▂▁▁▂▂▂▁▁▂▁▂▂▂▂</td></tr><tr><td>Validation accuracy</td><td>▁</td></tr></table><br/></div><div class=\"wandb-col\"><h3>Run summary:</h3><br/><table class=\"wandb\"><tr><td>BATCH-LOSS</td><td>0.02506</td></tr><tr><td>Batch Size</td><td>112</td></tr><tr><td>Dropout</td><td>0.2</td></tr><tr><td>Epochs</td><td>15</td></tr><tr><td>Max-LR</td><td>0.1</td></tr><tr><td>Momentum</td><td>0.5265</td></tr><tr><td>Optimizer</td><td>sgd</td></tr><tr><td>VAL-ACC</td><td>0.85799</td></tr><tr><td>VAL-LOSS</td><td>0.73016</td></tr><tr><td>Validation accuracy</td><td>0.84463</td></tr></table><br/></div></div>"
            ]
          },
          "metadata": {}
        },
        {
          "output_type": "display_data",
          "data": {
            "text/plain": [
              "<IPython.core.display.HTML object>"
            ],
            "text/html": [
              "Synced <strong style=\"color:#cdcd00\">misty-sweep-4</strong>: <a href=\"https://wandb.ai/adi001/imagenette-project/runs/bzwp5u69\" target=\"_blank\">https://wandb.ai/adi001/imagenette-project/runs/bzwp5u69</a><br/>Synced 5 W&B file(s), 0 media file(s), 0 artifact file(s) and 0 other file(s)"
            ]
          },
          "metadata": {}
        },
        {
          "output_type": "display_data",
          "data": {
            "text/plain": [
              "<IPython.core.display.HTML object>"
            ],
            "text/html": [
              "Find logs at: <code>./wandb/run-20220714_120605-bzwp5u69/logs</code>"
            ]
          },
          "metadata": {}
        }
      ]
    }
  ]
}